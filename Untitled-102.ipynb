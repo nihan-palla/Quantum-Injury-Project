{
 "cells": [
  {
   "cell_type": "code",
   "execution_count": 5,
   "id": "7aea015d",
   "metadata": {},
   "outputs": [
    {
     "name": "stdout",
     "output_type": "stream",
     "text": [
      "Requirement already satisfied: scikit-learn in c:\\users\\rpall\\anaconda3\\envs\\tes\\lib\\site-packages (1.7.0)\n",
      "Requirement already satisfied: numpy>=1.22.0 in c:\\users\\rpall\\anaconda3\\envs\\tes\\lib\\site-packages (from scikit-learn) (2.2.6)\n",
      "Requirement already satisfied: scipy>=1.8.0 in c:\\users\\rpall\\anaconda3\\envs\\tes\\lib\\site-packages (from scikit-learn) (1.15.3)\n",
      "Requirement already satisfied: joblib>=1.2.0 in c:\\users\\rpall\\anaconda3\\envs\\tes\\lib\\site-packages (from scikit-learn) (1.5.1)\n",
      "Requirement already satisfied: threadpoolctl>=3.1.0 in c:\\users\\rpall\\anaconda3\\envs\\tes\\lib\\site-packages (from scikit-learn) (3.6.0)\n"
     ]
    }
   ],
   "source": [
    "!pip install scikit-learn"
   ]
  },
  {
   "cell_type": "code",
   "execution_count": 6,
   "id": "dac178d8",
   "metadata": {},
   "outputs": [
    {
     "ename": "ImportError",
     "evalue": "cannot import name 'QuantumInstance' from 'qiskit.utils' (c:\\Users\\rpall\\anaconda3\\envs\\tes\\Lib\\site-packages\\qiskit\\utils\\__init__.py)",
     "output_type": "error",
     "traceback": [
      "\u001b[31m---------------------------------------------------------------------------\u001b[39m",
      "\u001b[31mImportError\u001b[39m                               Traceback (most recent call last)",
      "\u001b[36mCell\u001b[39m\u001b[36m \u001b[39m\u001b[32mIn[6]\u001b[39m\u001b[32m, line 8\u001b[39m\n\u001b[32m      5\u001b[39m \u001b[38;5;28;01mfrom\u001b[39;00m\u001b[38;5;250m \u001b[39m\u001b[34;01msklearn\u001b[39;00m\u001b[34;01m.\u001b[39;00m\u001b[34;01mmetrics\u001b[39;00m\u001b[38;5;250m \u001b[39m\u001b[38;5;28;01mimport\u001b[39;00m accuracy_score, confusion_matrix, ConfusionMatrixDisplay\n\u001b[32m      7\u001b[39m \u001b[38;5;28;01mfrom\u001b[39;00m\u001b[38;5;250m \u001b[39m\u001b[34;01mqiskit_aer\u001b[39;00m\u001b[38;5;250m \u001b[39m\u001b[38;5;28;01mimport\u001b[39;00m Aer\n\u001b[32m----> \u001b[39m\u001b[32m8\u001b[39m \u001b[38;5;28;01mfrom\u001b[39;00m\u001b[38;5;250m \u001b[39m\u001b[34;01mqiskit\u001b[39;00m\u001b[34;01m.\u001b[39;00m\u001b[34;01mutils\u001b[39;00m\u001b[38;5;250m \u001b[39m\u001b[38;5;28;01mimport\u001b[39;00m QuantumInstance\n\u001b[32m      9\u001b[39m \u001b[38;5;28;01mfrom\u001b[39;00m\u001b[38;5;250m \u001b[39m\u001b[34;01mqiskit\u001b[39;00m\u001b[34;01m.\u001b[39;00m\u001b[34;01mcircuit\u001b[39;00m\u001b[34;01m.\u001b[39;00m\u001b[34;01mlibrary\u001b[39;00m\u001b[38;5;250m \u001b[39m\u001b[38;5;28;01mimport\u001b[39;00m ZZFeatureMap, TwoLocal\n\u001b[32m     10\u001b[39m \u001b[38;5;28;01mfrom\u001b[39;00m\u001b[38;5;250m \u001b[39m\u001b[34;01mqiskit_machine_learning\u001b[39;00m\u001b[34;01m.\u001b[39;00m\u001b[34;01malgorithms\u001b[39;00m\u001b[38;5;250m \u001b[39m\u001b[38;5;28;01mimport\u001b[39;00m VQC\n",
      "\u001b[31mImportError\u001b[39m: cannot import name 'QuantumInstance' from 'qiskit.utils' (c:\\Users\\rpall\\anaconda3\\envs\\tes\\Lib\\site-packages\\qiskit\\utils\\__init__.py)"
     ]
    }
   ],
   "source": [
    "import numpy as np\n",
    "import matplotlib.pyplot as plt\n",
    "from sklearn.model_selection import train_test_split\n",
    "from sklearn.preprocessing import MinMaxScaler\n",
    "from sklearn.metrics import accuracy_score, confusion_matrix, ConfusionMatrixDisplay\n",
    "\n",
    "from qiskit_aer import Aer\n",
    "from qiskit.utils import QuantumInstance\n",
    "from qiskit.circuit.library import ZZFeatureMap, TwoLocal\n",
    "from qiskit_machine_learning.algorithms import VQC\n",
    "\n",
    "# ------------------------\n",
    "# Step 1: Simulate Athlete Data (Replace with Real Data)\n",
    "# ------------------------\n",
    "def generate_synthetic_data(n_samples=300):\n",
    "    np.random.seed(42)\n",
    "\n",
    "    # Simulate meaningful metrics\n",
    "    I_PRRS = np.random.randint(0, 101, n_samples)                  # Confidence (0-100)\n",
    "    TSK_11 = np.random.randint(11, 45, n_samples)                  # Fear (11-44)\n",
    "    injury_count = np.random.randint(1, 6, n_samples)              # Number of injuries\n",
    "    perf_delta = np.random.uniform(-0.6, 0.1, n_samples)           # % drop in stats\n",
    "\n",
    "    # Combine features\n",
    "    X = np.column_stack((I_PRRS, TSK_11, injury_count, perf_delta))\n",
    "\n",
    "    # Label: 1 = successful recovery, 0 = poor\n",
    "    y = ((I_PRRS > 60) & (TSK_11 < 25) & (perf_delta > -0.25)).astype(int)\n",
    "    return X, y\n",
    "\n",
    "# ------------------------\n",
    "# Step 2: Preprocess Data\n",
    "# ------------------------\n",
    "X, y = generate_synthetic_data()\n",
    "scaler = MinMaxScaler(feature_range=(0, np.pi))\n",
    "X_scaled = scaler.fit_transform(X)\n",
    "\n",
    "X_train, X_test, y_train, y_test = train_test_split(X_scaled, y, test_size=0.25, random_state=42)\n",
    "\n",
    "# ------------------------\n",
    "# Step 3: Build Quantum Model (VQC)\n",
    "# ------------------------\n",
    "num_features = X.shape[1]\n",
    "feature_map = ZZFeatureMap(feature_dimension=num_features, reps=2)\n",
    "ansatz = TwoLocal(num_qubits=num_features, rotation_blocks='ry', entanglement_blocks='cz', reps=2)\n",
    "\n",
    "backend = Aer.get_backend('qasm_simulator')\n",
    "qi = QuantumInstance(backend=backend, shots=1024, seed_simulator=42, seed_transpiler=42)\n",
    "\n",
    "vqc = VQC(feature_map=feature_map,\n",
    "          ansatz=ansatz,\n",
    "          optimizer='SPSA',\n",
    "          quantum_instance=qi)\n",
    "\n",
    "# ------------------------\n",
    "# Step 4: Train Model\n",
    "# ------------------------\n",
    "vqc.fit(X_train, y_train)\n",
    "\n",
    "# ------------------------\n",
    "# Step 5: Evaluate Model\n",
    "# ------------------------\n",
    "y_pred = vqc.predict(X_test)\n",
    "accuracy = accuracy_score(y_test, y_pred)\n",
    "\n",
    "print(f\"Accuracy on Test Set: {accuracy:.2f}\")\n",
    "\n",
    "cm = confusion_matrix(y_test, y_pred)\n",
    "disp = ConfusionMatrixDisplay(confusion_matrix=cm, display_labels=[\"Poor Recovery\", \"Strong Recovery\"])\n",
    "disp.plot(cmap=plt.cm.Blues)\n",
    "plt.title(\"Confusion Matrix - Athlete Recovery\")\n",
    "plt.show()\n",
    "\n",
    "# ------------------------\n",
    "# Step 6: Predict for a New Athlete\n",
    "# ------------------------\n",
    "def predict_new_athlete(i_prrs, tsk11, injuries, perf_drop):\n",
    "    new_data = np.array([[i_prrs, tsk11, injuries, perf_drop]])\n",
    "    new_scaled = scaler.transform(new_data)\n",
    "    prediction = vqc.predict(new_scaled)\n",
    "    return prediction[0]\n",
    "\n",
    "# Example prediction\n",
    "print(\"\\nNew Athlete Prediction:\")\n",
    "example = predict_new_athlete(i_prrs=68, tsk11=20, injuries=3, perf_drop=-0.15)\n",
    "print(\"Prediction:\", \"Strong Recovery\" if example == 1 else \"Poor Recovery\")\n",
    "\n",
    "\n"
   ]
  },
  {
   "cell_type": "code",
   "execution_count": null,
   "id": "56a54426",
   "metadata": {},
   "outputs": [],
   "source": []
  }
 ],
 "metadata": {
  "kernelspec": {
   "display_name": "tes",
   "language": "python",
   "name": "python3"
  },
  "language_info": {
   "codemirror_mode": {
    "name": "ipython",
    "version": 3
   },
   "file_extension": ".py",
   "mimetype": "text/x-python",
   "name": "python",
   "nbconvert_exporter": "python",
   "pygments_lexer": "ipython3",
   "version": "3.13.2"
  }
 },
 "nbformat": 4,
 "nbformat_minor": 5
}
